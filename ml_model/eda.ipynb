{
 "cells": [
  {
   "cell_type": "code",
   "execution_count": 11,
   "metadata": {},
   "outputs": [
    {
     "data": {
      "text/plain": [
       "['./data/Product.csv',\n",
       " './data/Region.csv',\n",
       " './data/Reseller.csv',\n",
       " './data/Sales.csv',\n",
       " './data/Salesperson.csv',\n",
       " './data/SalespersonRegion.csv',\n",
       " './data/Targets.csv']"
      ]
     },
     "execution_count": 11,
     "metadata": {},
     "output_type": "execute_result"
    }
   ],
   "source": [
    "[f.replace('\\\\', '/') for f in glob.glob('./data/*.csv')]"
   ]
  },
  {
   "cell_type": "code",
   "execution_count": 14,
   "metadata": {},
   "outputs": [
    {
     "name": "stdout",
     "output_type": "stream",
     "text": [
      "\n",
      "Successfully read Product.csv:\n",
      "['ProductKey', 'Product', 'Standard Cost', 'Color', 'Subcategory', 'Category', 'Background Color Format', 'Font Color Format']\n",
      "\n",
      "Successfully read Region.csv:\n",
      "['SalesTerritoryKey', 'Region', 'Country', 'Group']\n",
      "\n",
      "Successfully read Reseller.csv:\n",
      "['ResellerKey', 'Business Type', 'Reseller', 'City', 'State-Province', 'Country-Region']\n",
      "\n",
      "Successfully read Sales.csv:\n",
      "['SalesOrderNumber', 'OrderDate', 'ProductKey', 'ResellerKey', 'EmployeeKey', 'SalesTerritoryKey', 'Quantity', 'Unit Price', 'Sales', 'Cost']\n",
      "\n",
      "Successfully read Salesperson.csv:\n",
      "['EmployeeKey', 'EmployeeID', 'Salesperson', 'Title', 'UPN']\n",
      "\n",
      "Successfully read SalespersonRegion.csv:\n",
      "['EmployeeKey', 'SalesTerritoryKey']\n",
      "\n",
      "Successfully read Targets.csv:\n",
      "['EmployeeID', 'Target', 'TargetMonth']\n"
     ]
    }
   ],
   "source": [
    "import pandas as pd\n",
    "import glob\n",
    "import os\n",
    "from pathlib import Path  # Added for consistent path handling\n",
    "\n",
    "# Convert paths to consistent format using Path\n",
    "files = [str(Path(f)) for f in glob.glob('./data/*.csv')]\n",
    "\n",
    "for f in files:\n",
    "    try:\n",
    "        df = pd.read_csv(f, encoding='utf-8', sep='\\t', on_bad_lines='skip')\n",
    "        print(f\"\\nSuccessfully read {Path(f).name}:\")\n",
    "        print(df.columns.tolist())\n",
    "        \n",
    "    except Exception as e:\n",
    "        print(f\"Error reading file {f}: {str(e)}\")"
   ]
  },
  {
   "cell_type": "code",
   "execution_count": null,
   "metadata": {},
   "outputs": [],
   "source": []
  }
 ],
 "metadata": {
  "kernelspec": {
   "display_name": ".venv",
   "language": "python",
   "name": "python3"
  },
  "language_info": {
   "codemirror_mode": {
    "name": "ipython",
    "version": 3
   },
   "file_extension": ".py",
   "mimetype": "text/x-python",
   "name": "python",
   "nbconvert_exporter": "python",
   "pygments_lexer": "ipython3",
   "version": "3.12.2"
  }
 },
 "nbformat": 4,
 "nbformat_minor": 2
}
